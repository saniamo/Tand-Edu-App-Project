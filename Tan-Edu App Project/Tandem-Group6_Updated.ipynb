{
 "cells": [
  {
   "cell_type": "code",
   "execution_count": 1,
   "metadata": {},
   "outputs": [],
   "source": [
    "# 1- function to register students from developing counties\n",
    "developing_countries_tandems = []\n",
    "\n",
    "\n",
    "def register_developing_countries_tandem(name, level_of_education, email, subject):\n",
    "    new_tandem = {'name': name, 'level_of_education': level_of_education, 'email': email, 'subject': subject}\n",
    "    developing_countries_tandems.append(new_tandem)"
   ]
  },
  {
   "cell_type": "code",
   "execution_count": 2,
   "metadata": {},
   "outputs": [],
   "source": [
    "# 2- function to register students/teachers from developed countries\n",
    "developed_countries_tandems = []\n",
    "\n",
    "\n",
    "def register_developed_countries_tandem(name, level_of_education, email, subject):\n",
    "    new_tandem = {'name': name, 'level_of_education': level_of_education, 'email': email, 'subject': subject}\n",
    "    developed_countries_tandems.append(new_tandem)\n"
   ]
  },
  {
   "cell_type": "code",
   "execution_count": 3,
   "metadata": {},
   "outputs": [],
   "source": [
    "# 3- function to match students/teachers from developing and developed countries\n",
    "matches = []\n",
    "partners = []\n",
    "matched_tandems = []\n",
    "\n",
    "\n",
    "def match_developing_and_developed_countries_tandeems():\n",
    "    for developing_country_tandem in developing_countries_tandems:\n",
    "        for developed_country_tandem in developed_countries_tandems:\n",
    "            if developing_country_tandem[\"level_of_education\"] == developed_country_tandem[\"level_of_education\"] and developing_country_tandem[\"subject\"] == developed_country_tandem[\"subject\"]:\n",
    "                \n",
    "                match_exists = False\n",
    "                for match in matched_tandems: \n",
    "                    if match == developing_country_tandem[\"name\"] or match == developed_country_tandem[\"name\"]:\n",
    "                        match_exists = True\n",
    "                        \n",
    "                if match_exists == False:\n",
    "                    valid_match = []\n",
    "                \n",
    "                    valid_match.append(developing_country_tandem)\n",
    "                    valid_match.append(developed_country_tandem)\n",
    "                \n",
    "                    matched_tandems.append(developing_country_tandem[\"name\"])\n",
    "                    matched_tandems.append(developed_country_tandem[\"name\"])\n",
    "\n",
    "                    matches.append(valid_match)\n",
    "                    partners.append({\"match_1\":developing_country_tandem,\"match_2\":developed_country_tandem})\n"
   ]
  },
  {
   "cell_type": "code",
   "execution_count": 4,
   "metadata": {},
   "outputs": [],
   "source": [
    "def print_partners():\n",
    "    for partner in partners:\n",
    "        print(partner[\"match_1\"][\"name\"] +\" matches with \" + partner[\"match_2\"][\"name\"])"
   ]
  },
  {
   "cell_type": "code",
   "execution_count": 5,
   "metadata": {},
   "outputs": [],
   "source": [
    "# Display some stats:\n",
    "def display_stats():\n",
    "    print(\"Beginning of stats...\")\n",
    "    print(\"Overall participants: \")\n",
    "    print(len(developing_countries_tandems) + len(developed_countries_tandems))\n",
    "    print(\"Participants from Developing Countries: \")\n",
    "    print(len(developing_countries_tandems))\n",
    "    print(\"Participants from Developed Countries: \")\n",
    "    print(len(developed_countries_tandems))\n",
    "    matched = 0\n",
    "    for developing_country_tandem in developing_countries_tandems:\n",
    "        for developed_country_tandem in developed_countries_tandems:\n",
    "            if developing_country_tandem[\"level_of_education\"] == developed_country_tandem[\"level_of_education\"] and developing_country_tandem[\"subject\"] == developed_country_tandem[\"subject\"]:\n",
    "                matched = matched + 1\n",
    "    print(\"Matched participants: \")\n",
    "    print(matched)\n",
    "    print(\"Pending matching participants: \")\n",
    "    print(len(developing_countries_tandems) + len(developed_countries_tandems) - matched)"
   ]
  },
  {
   "cell_type": "code",
   "execution_count": 6,
   "metadata": {},
   "outputs": [],
   "source": [
    "def display_matched_by_email(email):\n",
    "    for match in matches:\n",
    "        if match[0][\"email\"] == email or match[1][\"email\"] == email:\n",
    "            print(\"There is a match between the following two email, please contact them\")\n",
    "            print(match[0][\"email\"])\n",
    "            print(\"and\")\n",
    "            print(match[1][\"email\"])\n",
    "            print(\"Over the following subject: \")\n",
    "            print(match[0][\"subject\"])\n",
    "            return\n",
    "    print(\"There was no matches found for your email\")"
   ]
  },
  {
   "cell_type": "code",
   "execution_count": 9,
   "metadata": {},
   "outputs": [
    {
     "name": "stdout",
     "output_type": "stream",
     "text": [
      "Welcome Tandem Matching Application!\n",
      "Input 0 for Tandeems from developing countries, Input 1 for Tandeems from developed countries, Input 2 to display stats, Input 3 to query via email if you have a match, Input 4 to get a list of all matched candidates1\n",
      "Please enter your name:  Amy\n",
      "Enter the level of education you can support(Primary, Preparatory, Secondary): Secondary\n",
      "Enter your email: amy@gmail.com\n",
      "Enter the subject that you are interested in teaching: Maths\n",
      "Thank you, your application has been submitted successfully and our algorithm will process it and match it with the approprite candidate! \n",
      "==========================\n",
      "Input 0 for Tandeems from developing countries, Input 1 for Tandeems from developed countries, Input 2 to display stats, Input 3 to query via email if you have a match, Input 4 to get a list of all matched candidates0\n",
      "Please enter your name:  Sandy\n",
      "Enter your level of education (Primary, Preparatory, Secondary): Secondary\n",
      "Enter your email: sandy@gmail.com\n",
      "Enter the subject that you are interested in learning.: (Math, CS, Science, Language,Social,...Math\n",
      "Thank you, your application has been submitted successfully. We will process it and match you. \n",
      "==========================\n",
      "Input 0 for Tandeems from developing countries, Input 1 for Tandeems from developed countries, Input 2 to display stats, Input 3 to query via email if you have a match, Input 4 to get a list of all matched candidates1\n",
      "Please enter your name:  Kc\n",
      "Enter the level of education you can support(Primary, Preparatory, Secondary): Secondary\n",
      "Enter your email: kc@gmail.com\n",
      "Enter the subject that you are interested in teaching: Math\n",
      "Thank you, your application has been submitted successfully and our algorithm will process it and match it with the approprite candidate! \n",
      "==========================\n",
      "Input 0 for Tandeems from developing countries, Input 1 for Tandeems from developed countries, Input 2 to display stats, Input 3 to query via email if you have a match, Input 4 to get a list of all matched candidates3\n",
      "Please enter your emailAmy@gmail.com\n",
      "There was no matches found for your email\n",
      "Input 0 for Tandeems from developing countries, Input 1 for Tandeems from developed countries, Input 2 to display stats, Input 3 to query via email if you have a match, Input 4 to get a list of all matched candidates4\n",
      "Thank you for visiting our website. Here are the results of matched tandeems\n",
      "Sandy matches with Kc\n"
     ]
    }
   ],
   "source": [
    "# Press the green button in the gutter to run the script.\n",
    "if __name__ == '__main__':\n",
    "    runtime = True\n",
    "    print(\"Welcome Tandem Matching Application!\")\n",
    "    while runtime:\n",
    "        checker = int(input(\"Input 0 for Tandeems from developing countries, Input 1 for Tandeems from developed countries, Input 2 to display stats, Input 3 to query via email if you have a match, Input 4 to get a list of all matched candidates\"))\n",
    "        if checker == 0:\n",
    "            name = input(\"Please enter your name:  \")\n",
    "            level_of_education = input(\"Enter your level of education (Primary, Preparatory, Secondary): \")\n",
    "            email = input(\"Enter your email: \")\n",
    "            subject = input(\"Enter the subject that you are interested in learning.: (Math, CS, Science, Language,Social,...\")\n",
    "            register_developing_countries_tandem(name, level_of_education, email, subject)\n",
    "            print(\n",
    "                \"Thank you, your application has been submitted successfully. We will process it and match you. \")\n",
    "            print('==========================')\n",
    "        elif checker == 1:\n",
    "            name = input(\"Please enter your name:  \")\n",
    "            level_of_education = input(\"Enter the level of education you can support(Primary, Preparatory, Secondary): \")\n",
    "            email = input(\"Enter your email: \")\n",
    "            subject = input(\"Enter the subject that you are interested in teaching: \")\n",
    "            register_developed_countries_tandem(name, level_of_education, email, subject)\n",
    "            print(\n",
    "                \"Thank you, your application has been submitted successfully and our algorithm will process it and match it with the approprite candidate! \")\n",
    "            print('==========================')\n",
    "        elif checker == 2:\n",
    "            display_stats()\n",
    "\n",
    "        elif checker == 3:\n",
    "            email = input(\"Please enter your email\")\n",
    "            match_developing_and_developed_countries_tandeems()\n",
    "            display_matched_by_email(email)\n",
    "\n",
    "        else:\n",
    "            runtime = False\n",
    "            print(\"Thank you for visiting our website. Here are the results of matched tandeems\")\n",
    "            match_developing_and_developed_countries_tandeems() \n",
    "            print_partners()"
   ]
  },
  {
   "cell_type": "code",
   "execution_count": null,
   "metadata": {},
   "outputs": [],
   "source": []
  }
 ],
 "metadata": {
  "kernelspec": {
   "display_name": "Python 3",
   "language": "python",
   "name": "python3"
  },
  "language_info": {
   "codemirror_mode": {
    "name": "ipython",
    "version": 3
   },
   "file_extension": ".py",
   "mimetype": "text/x-python",
   "name": "python",
   "nbconvert_exporter": "python",
   "pygments_lexer": "ipython3",
   "version": "3.8.3"
  }
 },
 "nbformat": 4,
 "nbformat_minor": 2
}
